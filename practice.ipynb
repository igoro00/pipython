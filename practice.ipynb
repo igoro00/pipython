{
 "cells": [
  {
   "cell_type": "markdown",
   "id": "422c29bb",
   "metadata": {},
   "source": [
    "## Sieve of Eratosthenes"
   ]
  },
  {
   "cell_type": "code",
   "execution_count": null,
   "id": "ba2c2098",
   "metadata": {},
   "outputs": [],
   "source": [
    "def sieve(n: int)-> list[int]:\n",
    "    values = list(range(2, n+1))\n",
    "    out = []\n",
    "    while len(values):\n",
    "        lowest = values[0]\n",
    "        out.append(lowest)\n",
    "        for i in range(lowest, n+1, lowest):\n",
    "            try:\n",
    "                values.remove(i)\n",
    "            except ValueError:\n",
    "                pass\n",
    "\n",
    "    return out\n",
    "\n",
    "sieve(101)"
   ]
  },
  {
   "cell_type": "markdown",
   "id": "59701c6f",
   "metadata": {},
   "source": [
    "## Least Common Multiple"
   ]
  },
  {
   "cell_type": "code",
   "execution_count": null,
   "id": "34bd6ddd",
   "metadata": {},
   "outputs": [],
   "source": [
    "def lcm(a:int, b:int)-> int:\n",
    "    def gcd(a:int, b:int)-> int:\n",
    "        while a != b: \n",
    "            if a > b:\n",
    "                a = a - b\n",
    "            else:\n",
    "                b = b - a\n",
    "        return a\n",
    "    \n",
    "    return abs(a*b)//gcd(a,b)\n",
    "\n",
    "lcm(2,3)"
   ]
  }
 ],
 "metadata": {
  "kernelspec": {
   "display_name": "Python 3",
   "language": "python",
   "name": "python3"
  },
  "language_info": {
   "codemirror_mode": {
    "name": "ipython",
    "version": 3
   },
   "file_extension": ".py",
   "mimetype": "text/x-python",
   "name": "python",
   "nbconvert_exporter": "python",
   "pygments_lexer": "ipython3",
   "version": "3.13.7"
  }
 },
 "nbformat": 4,
 "nbformat_minor": 5
}
